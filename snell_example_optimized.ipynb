{
 "cells": [
  {
   "cell_type": "markdown",
   "metadata": {},
   "source": [
    "# `snell_example_optimized.ipynb`\n",
    "\n",
    "### Notebook showing the results of a compromise between speed and result quality:\n",
    "1) Super sample 16x\n",
    "\n",
    "2) Average over 5 seperate stochastically sampled images"
   ]
  },
  {
   "cell_type": "code",
   "execution_count": 1,
   "metadata": {},
   "outputs": [],
   "source": [
    "import snell\n",
    "import matplotlib.pyplot as plt\n",
    "import numpy as np\n",
    "import tifffile\n",
    "\n",
    "from skimage.transform import downscale_local_mean as dsm\n",
    "from skimage.transform import rescale\n",
    "\n",
    "%matplotlib notebook\n",
    "%load_ext autoreload\n",
    "%autoreload"
   ]
  },
  {
   "cell_type": "markdown",
   "metadata": {},
   "source": [
    "#### Initialize display variables using class constructor\n",
    "Assuming input images are square, 'dispres' should be the width of expected input images "
   ]
  },
  {
   "cell_type": "code",
   "execution_count": 2,
   "metadata": {},
   "outputs": [],
   "source": [
    "display_stochastic = snell.snell(config = 'flat_stochastic', dispres = 1000, \n",
    "                                 dispcm = 2, ddisp = 1, dadw = 10, stoch_range=2,num_stochastic=5)"
   ]
  },
  {
   "cell_type": "markdown",
   "metadata": {},
   "source": [
    "#### Create spatial lookup table for this virtual display configuration"
   ]
  },
  {
   "cell_type": "code",
   "execution_count": 3,
   "metadata": {},
   "outputs": [
    {
     "name": "stdout",
     "output_type": "stream",
     "text": [
      "start[XXXXX  ]end\r"
     ]
    }
   ],
   "source": [
    "display_stochastic.make_display()"
   ]
  },
  {
   "cell_type": "markdown",
   "metadata": {},
   "source": [
    "## Load in and transform some example images"
   ]
  },
  {
   "cell_type": "markdown",
   "metadata": {},
   "source": [
    "#### Gratings:"
   ]
  },
  {
   "cell_type": "code",
   "execution_count": 4,
   "metadata": {},
   "outputs": [
    {
     "name": "stderr",
     "output_type": "stream",
     "text": [
      "/home/twd/.conda/envs/snell/lib/python3.6/site-packages/skimage/transform/_warps.py:84: UserWarning: The default mode, 'constant', will be changed to 'reflect' in skimage 0.15.\n",
      "  warn(\"The default mode, 'constant', will be changed to 'reflect' in \"\n"
     ]
    },
    {
     "name": "stdout",
     "output_type": "stream",
     "text": [
      "start[XXXXX  ]end\r"
     ]
    }
   ],
   "source": [
    "OMR_air = tifffile.imread('./examples/example_grating_dsm.tif')\n",
    "\n",
    "OMR_snell_stochastic2 = display_stochastic.transform_images_loop(OMR_air,smooth=False)"
   ]
  },
  {
   "cell_type": "code",
   "execution_count": 5,
   "metadata": {},
   "outputs": [
    {
     "data": {
      "text/plain": [
       "<matplotlib.image.AxesImage at 0x7f0a9ebc83c8>"
      ]
     },
     "execution_count": 5,
     "metadata": {},
     "output_type": "execute_result"
    },
    {
     "data": {
      "image/png": "[encoded data removed]",
      "text/plain": [
       "<Figure size 432x288 with 1 Axes>"
      ]
     },
     "metadata": {},
     "output_type": "display_data"
    }
   ],
   "source": [
    "plt.figure()\n",
    "plt.imshow(OMR_snell_stochastic2,cmap='gray')"
   ]
  },
  {
   "cell_type": "markdown",
   "metadata": {},
   "source": [
    "# Go backwards"
   ]
  },
  {
   "cell_type": "code",
   "execution_count": 6,
   "metadata": {},
   "outputs": [
    {
     "name": "stdout",
     "output_type": "stream",
     "text": [
      "Creating inverse lookup tables...\n",
      "1/5 ...\n",
      "start[XXXXXXXXXXXXXXXXXXXXXXXXXXXXXXXXXXXXXXXX ]end\n",
      "2/5 ...\n",
      "start[XXXXXXXXXXXXXXXXXXXXXXXXXXXXXXXXXXXXXXXX ]end\n",
      "3/5 ...\n",
      "start[XXXXXXXXXXXXXXXXXXXXXXXXXXXXXXXXXXXXXXXX ]end\n",
      "4/5 ...\n",
      "start[XXXXXXXXXXXXXXXXXXXXXXXXXXXXXXXXXXXXXXXX ]end\n",
      "5/5 ...\n",
      "start[XXXXXXXXXXXXXXXXXXXXXXXXXXXXXXXXXXXXXXXX ]end\n"
     ]
    }
   ],
   "source": [
    "display_stochastic.init_inverse_transform_loop()"
   ]
  },
  {
   "cell_type": "code",
   "execution_count": 7,
   "metadata": {},
   "outputs": [],
   "source": [
    "check_air = tifffile.imread('examples/example_check_inwindow_dsm.tif')"
   ]
  },
  {
   "cell_type": "code",
   "execution_count": 8,
   "metadata": {},
   "outputs": [
    {
     "name": "stderr",
     "output_type": "stream",
     "text": [
      "/home/twd/.conda/envs/snell/lib/python3.6/site-packages/skimage/transform/_warps.py:84: UserWarning: The default mode, 'constant', will be changed to 'reflect' in skimage 0.15.\n",
      "  warn(\"The default mode, 'constant', will be changed to 'reflect' in \"\n"
     ]
    },
    {
     "name": "stdout",
     "output_type": "stream",
     "text": [
      "(3999, 3999)\n",
      "inverting image...\n",
      "1/5 ...\n",
      "start[XXXXXXXXXXXXXXXXXXXXXXXX ]end\n",
      "2/5 ...\n",
      "start[XXXXXXXXXXXXXXXXXXXXXXXX ]end\n",
      "3/5 ...\n",
      "start[XXXXXXXXXXXXXXXXXXXXXXXX ]end\n",
      "4/5 ...\n",
      "start[XXXXXXXXXXXXXXXXXXXXXXXX ]end\n",
      "5/5 ...\n",
      "start[XXXXXXXXXXXXXXXXXXXXXXXX ]end\n",
      "Done.\n",
      "Calculating reconstruction error...\n",
      "mean absolute error (proportion of target):0.19579101723772388\n"
     ]
    }
   ],
   "source": [
    "inverse = display_stochastic.inverse_transform_image_loop(check_air,smooth=False)"
   ]
  },
  {
   "cell_type": "code",
   "execution_count": 9,
   "metadata": {},
   "outputs": [
    {
     "data": {
      "text/plain": [
       "<matplotlib.image.AxesImage at 0x7f08319885c0>"
      ]
     },
     "execution_count": 9,
     "metadata": {},
     "output_type": "execute_result"
    },
    {
     "data": {
      "image/png": "[encoded data removed]",
      "text/plain": [
       "<Figure size 432x288 with 1 Axes>"
      ]
     },
     "metadata": {},
     "output_type": "display_data"
    }
   ],
   "source": [
    "plt.figure()\n",
    "plt.imshow(inverse,cmap='gray')"
   ]
  },
  {
   "cell_type": "markdown",
   "metadata": {},
   "source": [
    "### Code below is under development, please ignore"
   ]
  },
  {
   "cell_type": "code",
   "execution_count": 21,
   "metadata": {},
   "outputs": [],
   "source": [
    "def save_inverses(inv,hf_file):\n",
    "    for i in range(len(inv)):\n",
    "        hf_file.create_dataset('inverse_{}'.format(i),data=str(display_stochastic.inverses[i]))"
   ]
  },
  {
   "cell_type": "code",
   "execution_count": 14,
   "metadata": {},
   "outputs": [],
   "source": [
    "def read_inverses(fn):\n",
    "    inverses = []\n",
    "    hf = h5py.File(fn,'r')\n",
    "    for key in hf.keys():\n",
    "        inverses.append(ast.literal_eval(str(np.array(hf[key]))))\n",
    "    hf.close()\n",
    "    return inverses"
   ]
  }
 ],
 "metadata": {
  "kernelspec": {
   "display_name": "Python 3",
   "language": "python",
   "name": "python3"
  },
  "language_info": {
   "codemirror_mode": {
    "name": "ipython",
    "version": 3
   },
   "file_extension": ".py",
   "mimetype": "text/x-python",
   "name": "python",
   "nbconvert_exporter": "python",
   "pygments_lexer": "ipython3",
   "version": "3.6.4"
  }
 },
 "nbformat": 4,
 "nbformat_minor": 2
}
